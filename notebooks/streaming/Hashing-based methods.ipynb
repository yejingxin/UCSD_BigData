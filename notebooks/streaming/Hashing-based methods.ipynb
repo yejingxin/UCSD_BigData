{
 "metadata": {
  "name": "",
  "signature": "sha256:bcb3fb705247bab362b0699b67bd5a8cf4dc76002284f556631530613cbcbc95"
 },
 "nbformat": 3,
 "nbformat_minor": 0,
 "worksheets": [
  {
   "cells": [
    {
     "cell_type": "markdown",
     "metadata": {},
     "source": [
      "This notebook is based on [chapter 4](http://infolab.stanford.edu/~ullman/mmds/ch4.pdf) of the book [Mining of Massive Datasets](http://infolab.stanford.edu/~ullman/mmds.html#latest) by Anand Rajarman, Jure Leskovec and Jeffrey Ullman."
     ]
    },
    {
     "cell_type": "code",
     "collapsed": false,
     "input": [
      "import random as r\n",
      "from Hash import Hash"
     ],
     "language": "python",
     "metadata": {},
     "outputs": [],
     "prompt_number": 3
    },
    {
     "cell_type": "heading",
     "level": 2,
     "metadata": {},
     "source": [
      "Bloom Filters"
     ]
    },
    {
     "cell_type": "markdown",
     "metadata": {},
     "source": [
      "In the Sampling notebook we explored an efficient method for estimating the fraction of elements that appear more than once. Here we discuss a related but harder quesion: how do we estimate the **set** of items that appear more than once. Sampling will not help us here because we will miss all of those items that appeared more than once but were not selected by our Hash function.\n",
      "\n",
      "A classical solution to this are **Bloom Filters** described and analyzed [here](http://seed.ucsd.edu/mediawiki/images/5/52/BloomFilter.pdf).\n",
      "\n",
      "In this section we give an implementation of Bloom filters and show the result of a few experiments (Soon To Come)"
     ]
    },
    {
     "cell_type": "code",
     "collapsed": false,
     "input": [],
     "language": "python",
     "metadata": {},
     "outputs": []
    },
    {
     "cell_type": "heading",
     "level": 2,
     "metadata": {},
     "source": [
      "Counting Distinct Items"
     ]
    },
    {
     "cell_type": "code",
     "collapsed": false,
     "input": [
      "import random as r\n",
      "num_id=800\n",
      "ids=[int(r*1e10) for r in random.rand(num_id)]\n",
      "print 'length of sequence',len(ids),'number of different ids',len(unique(ids))\n",
      "L=[]\n",
      "for id in ids:\n",
      "    copies = int(rand()*10)\n",
      "    L = L+[id]*copies\n",
      "L=permutation(L)  # Randomly permute the sequence to \"hide\" the doubles"
     ],
     "language": "python",
     "metadata": {},
     "outputs": [
      {
       "output_type": "stream",
       "stream": "stdout",
       "text": [
        "length of sequence 800 number of different ids 800\n"
       ]
      }
     ],
     "prompt_number": 89
    },
    {
     "cell_type": "code",
     "collapsed": false,
     "input": [
      "def count_zeros(n):\n",
      "    bits=int(ceil(log(n)/log(2)))+1\n",
      "    #print n,bits\n",
      "    for i in range(1,bits+1):\n",
      "        if n % (2**i) != 0:\n",
      "            return i-1"
     ],
     "language": "python",
     "metadata": {},
     "outputs": [],
     "prompt_number": 90
    },
    {
     "cell_type": "code",
     "collapsed": false,
     "input": [
      "M=100\n",
      "Estimates=np.zeros(M)\n",
      "\n",
      "for i in range(M):\n",
      "    H=Hash(range=1e10)\n",
      "    max_zeros=0\n",
      "    for x in L:\n",
      "        zeros=count_zeros(H.map(x))\n",
      "        if zeros>max_zeros:\n",
      "            max_zeros=zeros\n",
      "            #print 'max zeros increased to',max_zeros\n",
      "    Estimates[i]=2**max_zeros\n",
      "    # print 'We estimate that there are ',2**max_zeros, 'elements'"
     ],
     "language": "python",
     "metadata": {},
     "outputs": [
      {
       "output_type": "stream",
       "stream": "stdout",
       "text": [
        "[  1.02400000e+03   1.28000000e+02   1.02400000e+03   5.12000000e+02\n",
        "   5.12000000e+02   2.56000000e+02   1.28000000e+02   1.02400000e+03\n",
        "   2.56000000e+02   2.04800000e+03   1.02400000e+03   5.12000000e+02\n",
        "   5.12000000e+02   2.04800000e+03   2.09715200e+06   1.02400000e+03\n",
        "   5.12000000e+02   2.04800000e+03   2.04800000e+03   8.19200000e+03\n",
        "   5.12000000e+02   5.12000000e+02   4.09600000e+03   4.09600000e+03\n",
        "   2.56000000e+02   5.12000000e+02   1.02400000e+03   5.12000000e+02\n",
        "   2.04800000e+03   1.63840000e+04   1.02400000e+03   1.02400000e+03\n",
        "   5.12000000e+02   1.02400000e+03   1.02400000e+03   1.02400000e+03\n",
        "   5.12000000e+02   2.04800000e+03   2.56000000e+02   2.56000000e+02\n",
        "   5.12000000e+02   2.56000000e+02   5.12000000e+02   1.02400000e+03\n",
        "   2.56000000e+02   2.04800000e+03   2.56000000e+02   3.27680000e+04\n",
        "   2.56000000e+02   2.04800000e+03   1.02400000e+03   2.56000000e+02\n",
        "   2.56000000e+02   5.12000000e+02   1.02400000e+03   1.02400000e+03\n",
        "   4.09600000e+03   4.09600000e+03   5.12000000e+02   1.02400000e+03\n",
        "   5.12000000e+02   2.04800000e+03   4.09600000e+03   2.56000000e+02\n",
        "   1.02400000e+03   2.04800000e+03   2.04800000e+03   4.09600000e+03\n",
        "   5.12000000e+02   5.12000000e+02   2.04800000e+03   1.02400000e+03\n",
        "   2.04800000e+03   1.02400000e+03   8.19200000e+03   4.09600000e+03\n",
        "   4.09600000e+03   1.02400000e+03   4.09600000e+03   5.12000000e+02\n",
        "   5.12000000e+02   2.04800000e+03   5.12000000e+02   4.09600000e+03\n",
        "   5.12000000e+02   3.27680000e+04   4.09600000e+03   2.04800000e+03\n",
        "   4.09600000e+03   1.02400000e+03   5.12000000e+02   5.12000000e+02\n",
        "   5.12000000e+02   2.04800000e+03   2.04800000e+03   2.56000000e+02\n",
        "   5.12000000e+02   5.12000000e+02   1.28000000e+02   4.09600000e+03]\n"
       ]
      }
     ],
     "prompt_number": 91
    },
    {
     "cell_type": "code",
     "collapsed": false,
     "input": [
      "hist(Estimates);"
     ],
     "language": "python",
     "metadata": {},
     "outputs": [
      {
       "metadata": {},
       "output_type": "display_data",
       "png": "[encoded data removed]",
       "text": [
        "<matplotlib.figure.Figure at 0x108714510>"
       ]
      }
     ],
     "prompt_number": 95
    },
    {
     "cell_type": "code",
     "collapsed": false,
     "input": [
      "mean(Estimates)"
     ],
     "language": "python",
     "metadata": {},
     "outputs": [
      {
       "metadata": {},
       "output_type": "pyout",
       "prompt_number": 93,
       "text": [
        "23225.599999999999"
       ]
      }
     ],
     "prompt_number": 93
    },
    {
     "cell_type": "heading",
     "level": 2,
     "metadata": {},
     "source": [
      "Comparing a large number of of long documents"
     ]
    }
   ],
   "metadata": {}
  }
 ]
}