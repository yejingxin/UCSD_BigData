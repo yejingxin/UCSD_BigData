{
 "metadata": {
  "name": "",
  "signature": "sha256:e349882373bd8819485f4634b194d1a65e21a895699dc10092ffa6e2c61f1424"
 },
 "nbformat": 3,
 "nbformat_minor": 0,
 "worksheets": [
  {
   "cells": [
    {
     "cell_type": "code",
     "collapsed": false,
     "input": [
      "#root_dir = '/home/ubuntu/packages/mrjob'\n",
      "root_dir = '~/BigData/mrjob/'\n",
      "examples_dir=root_dir+'/examples/'\n",
      "!ls $examples_dir\n",
      "from mrjob.job import MRJob"
     ],
     "language": "python",
     "metadata": {},
     "outputs": [
      {
       "output_type": "stream",
       "stream": "stdout",
       "text": [
        "__init__.py             mr_grep.py              mr_next_word_stats.py   \u001b[34mmr_travelling_salesman\u001b[m\u001b[m  py3k_word_freq_count.py\r\n",
        "\u001b[34mbash_wrap\u001b[m\u001b[m               mr_jar_step_example.py  mr_page_rank.py         mr_wc.py\r\n",
        "\u001b[34mcontrib\u001b[m\u001b[m                 mr_log_sampler.py       \u001b[34mmr_postfix_bounce\u001b[m\u001b[m       \u001b[31mmr_wc.rb\u001b[m\u001b[m\r\n",
        "mr_cmd.py               \u001b[31mmr_most_used_word.py\u001b[m\u001b[m    mr_text_classifier.py   \u001b[31mmr_word_freq_count.py\u001b[m\u001b[m\r\n"
       ]
      }
     ],
     "prompt_number": 3
    },
    {
     "cell_type": "code",
     "collapsed": false,
     "input": [
      "#This notebook should be run AFTER the notebook \"Simple use of mrjob\"\n",
      "%load $examples_dir/mr_word_freq_count.py"
     ],
     "language": "python",
     "metadata": {},
     "outputs": [],
     "prompt_number": 4
    },
    {
     "cell_type": "heading",
     "level": 2,
     "metadata": {},
     "source": [
      "A demonstration of counters"
     ]
    },
    {
     "cell_type": "markdown",
     "metadata": {},
     "source": [
      "Counters are used to track the number of jobs of each type that have been executed."
     ]
    },
    {
     "cell_type": "code",
     "collapsed": false,
     "input": [
      "%%writefile mr_word_freq_counters.py\n",
      "#!/usr/bin/python\n",
      "# Copyright 2009-2010 Yelp\n",
      "#\n",
      "# Licensed under the Apache License, Version 2.0 (the \"License\");\n",
      "# you may not use this file except in compliance with the License.\n",
      "# You may obtain a copy of the License at\n",
      "#\n",
      "# http://www.apache.org/licenses/LICENSE-2.0\n",
      "#\n",
      "# Unless required by applicable law or agreed to in writing, software\n",
      "# distributed under the License is distributed on an \"AS IS\" BASIS,\n",
      "# WITHOUT WARRANTIES OR CONDITIONS OF ANY KIND, either express or implied.\n",
      "# See the License for the specific language governing permissions and\n",
      "# limitations under the License.\n",
      "\"\"\"The classic MapReduce job: count the frequency of words.\n",
      "\"\"\"\n",
      "from mrjob.job import MRJob\n",
      "import re\n",
      "from sys import stderr\n",
      "\n",
      "WORD_RE = re.compile(r\"[\\w']+\")\n",
      "\n",
      "#logfile=open('log','w')\n",
      "logfile=stderr\n",
      "\n",
      "class MRWordFreqCount(MRJob):\n",
      "\n",
      "    def mapper(self, _, line):\n",
      "        self.increment_counter('MrJob Counters','mapper',1)\n",
      "        for word in WORD_RE.findall(line):\n",
      "            #logfile.write('mapper '+word.lower()+'\\n')\n",
      "            yield (word.lower(), 1)\n",
      "\n",
      "    def combiner(self, word, counts):\n",
      "        self.increment_counter('MrJob Counters','combiner',1)\n",
      "        yield (word, sum(counts))\n",
      "        #l_counts=[c for c in counts]  # extract list from iterator\n",
      "        #S=sum(l_counts)\n",
      "        #logfile.write('combiner '+word+' ['+','.join([str(c) for c in l_counts])+']='+str(S)+'\\n')\n",
      "        #yield (word, S)\n",
      "\n",
      "    def reducer(self, word, counts):\n",
      "        self.increment_counter('MrJob Counters','reducer',1)\n",
      "        yield (word, sum(counts))\n",
      "        #l_counts=[c for c in counts]  # extract list from iterator\n",
      "        #S=sum(l_counts)\n",
      "        #logfile.write('reducer '+word+' ['+','.join([str(c) for c in l_counts])+']='+str(S)+'\\n')\n",
      "        #yield (word, S)\n",
      "\n",
      "if __name__ == '__main__':\n",
      "    MRWordFreqCount.run()"
     ],
     "language": "python",
     "metadata": {},
     "outputs": [
      {
       "output_type": "stream",
       "stream": "stdout",
       "text": [
        "Writing mr_word_freq_counters.py\n"
       ]
      }
     ],
     "prompt_number": 5
    },
    {
     "cell_type": "code",
     "collapsed": false,
     "input": [
      "!python mr_word_freq_counters.py $root_dir/README.rst > counts"
     ],
     "language": "python",
     "metadata": {},
     "outputs": [
      {
       "output_type": "stream",
       "stream": "stdout",
       "text": [
        "using configs in /Users/yoavfreund/.mrjob.conf\r\n",
        "creating tmp directory /var/folders/80/c2kfvdvx5cx570r4vlzqgb840000gq/T/mr_word_freq_counters.yoavfreund.20140507.194357.295631\r\n",
        "writing to /var/folders/80/c2kfvdvx5cx570r4vlzqgb840000gq/T/mr_word_freq_counters.yoavfreund.20140507.194357.295631/step-0-mapper_part-00000\r\n"
       ]
      },
      {
       "output_type": "stream",
       "stream": "stdout",
       "text": [
        "Counters from step 1:\r\n",
        "  MrJob Counters:\r\n",
        "    combiner: 254\r\n",
        "    mapper: 139\r\n",
        "writing to /var/folders/80/c2kfvdvx5cx570r4vlzqgb840000gq/T/mr_word_freq_counters.yoavfreund.20140507.194357.295631/step-0-mapper-sorted\r\n",
        "> sort /var/folders/80/c2kfvdvx5cx570r4vlzqgb840000gq/T/mr_word_freq_counters.yoavfreund.20140507.194357.295631/step-0-mapper_part-00000\r\n",
        "writing to /var/folders/80/c2kfvdvx5cx570r4vlzqgb840000gq/T/mr_word_freq_counters.yoavfreund.20140507.194357.295631/step-0-reducer_part-00000\r\n",
        "Counters from step 1:\r\n",
        "  MrJob Counters:\r\n",
        "    combiner: 254\r\n",
        "    mapper: 139\r\n",
        "    reducer: 254\r\n",
        "Moving /var/folders/80/c2kfvdvx5cx570r4vlzqgb840000gq/T/mr_word_freq_counters.yoavfreund.20140507.194357.295631/step-0-reducer_part-00000 -> /var/folders/80/c2kfvdvx5cx570r4vlzqgb840000gq/T/mr_word_freq_counters.yoavfreund.20140507.194357.295631/output/part-00000\r\n",
        "Streaming final output from /var/folders/80/c2kfvdvx5cx570r4vlzqgb840000gq/T/mr_word_freq_counters.yoavfreund.20140507.194357.295631/output\r\n",
        "removing tmp directory /var/folders/80/c2kfvdvx5cx570r4vlzqgb840000gq/T/mr_word_freq_counters.yoavfreund.20140507.194357.295631\r\n"
       ]
      }
     ],
     "prompt_number": 6
    },
    {
     "cell_type": "code",
     "collapsed": false,
     "input": [
      "!python mr_word_freq_counters.py --runner=local $root_dir/README.rst > counts"
     ],
     "language": "python",
     "metadata": {},
     "outputs": [
      {
       "output_type": "stream",
       "stream": "stdout",
       "text": [
        "using configs in /Users/yoavfreund/.mrjob.conf\r\n",
        "creating tmp directory /var/folders/80/c2kfvdvx5cx570r4vlzqgb840000gq/T/mr_word_freq_counters.yoavfreund.20140507.194401.486567\r\n"
       ]
      },
      {
       "output_type": "stream",
       "stream": "stdout",
       "text": [
        "writing to /var/folders/80/c2kfvdvx5cx570r4vlzqgb840000gq/T/mr_word_freq_counters.yoavfreund.20140507.194401.486567/step-0-mapper_part-00000\r\n",
        "> //anaconda/bin/python mr_word_freq_counters.py --step-num=0 --mapper /var/folders/80/c2kfvdvx5cx570r4vlzqgb840000gq/T/mr_word_freq_counters.yoavfreund.20140507.194401.486567/input_part-00000 | sort | //anaconda/bin/python mr_word_freq_counters.py --step-num=0 --combiner > /var/folders/80/c2kfvdvx5cx570r4vlzqgb840000gq/T/mr_word_freq_counters.yoavfreund.20140507.194401.486567/step-0-mapper_part-00000\r\n",
        "writing to /var/folders/80/c2kfvdvx5cx570r4vlzqgb840000gq/T/mr_word_freq_counters.yoavfreund.20140507.194401.486567/step-0-mapper_part-00001\r\n",
        "> //anaconda/bin/python mr_word_freq_counters.py --step-num=0 --mapper /var/folders/80/c2kfvdvx5cx570r4vlzqgb840000gq/T/mr_word_freq_counters.yoavfreund.20140507.194401.486567/input_part-00001 | sort | //anaconda/bin/python mr_word_freq_counters.py --step-num=0 --combiner > /var/folders/80/c2kfvdvx5cx570r4vlzqgb840000gq/T/mr_word_freq_counters.yoavfreund.20140507.194401.486567/step-0-mapper_part-00001\r\n"
       ]
      },
      {
       "output_type": "stream",
       "stream": "stdout",
       "text": [
        "Counters from step 1:\r\n",
        "  MrJob Counters:\r\n",
        "    combiner: 304\r\n",
        "    mapper: 139\r\n",
        "writing to /var/folders/80/c2kfvdvx5cx570r4vlzqgb840000gq/T/mr_word_freq_counters.yoavfreund.20140507.194401.486567/step-0-mapper-sorted\r\n",
        "> sort /var/folders/80/c2kfvdvx5cx570r4vlzqgb840000gq/T/mr_word_freq_counters.yoavfreund.20140507.194401.486567/step-0-mapper_part-00000 /var/folders/80/c2kfvdvx5cx570r4vlzqgb840000gq/T/mr_word_freq_counters.yoavfreund.20140507.194401.486567/step-0-mapper_part-00001\r\n",
        "writing to /var/folders/80/c2kfvdvx5cx570r4vlzqgb840000gq/T/mr_word_freq_counters.yoavfreund.20140507.194401.486567/step-0-reducer_part-00000\r\n",
        "> //anaconda/bin/python mr_word_freq_counters.py --step-num=0 --reducer /var/folders/80/c2kfvdvx5cx570r4vlzqgb840000gq/T/mr_word_freq_counters.yoavfreund.20140507.194401.486567/input_part-00000 > /var/folders/80/c2kfvdvx5cx570r4vlzqgb840000gq/T/mr_word_freq_counters.yoavfreund.20140507.194401.486567/step-0-reducer_part-00000\r\n",
        "writing to /var/folders/80/c2kfvdvx5cx570r4vlzqgb840000gq/T/mr_word_freq_counters.yoavfreund.20140507.194401.486567/step-0-reducer_part-00001\r\n",
        "> //anaconda/bin/python mr_word_freq_counters.py --step-num=0 --reducer /var/folders/80/c2kfvdvx5cx570r4vlzqgb840000gq/T/mr_word_freq_counters.yoavfreund.20140507.194401.486567/input_part-00001 > /var/folders/80/c2kfvdvx5cx570r4vlzqgb840000gq/T/mr_word_freq_counters.yoavfreund.20140507.194401.486567/step-0-reducer_part-00001\r\n"
       ]
      },
      {
       "output_type": "stream",
       "stream": "stdout",
       "text": [
        "Counters from step 1:\r\n",
        "  MrJob Counters:\r\n",
        "    combiner: 304\r\n",
        "    mapper: 139\r\n",
        "    reducer: 254\r\n",
        "Moving /var/folders/80/c2kfvdvx5cx570r4vlzqgb840000gq/T/mr_word_freq_counters.yoavfreund.20140507.194401.486567/step-0-reducer_part-00000 -> /var/folders/80/c2kfvdvx5cx570r4vlzqgb840000gq/T/mr_word_freq_counters.yoavfreund.20140507.194401.486567/output/part-00000\r\n",
        "Moving /var/folders/80/c2kfvdvx5cx570r4vlzqgb840000gq/T/mr_word_freq_counters.yoavfreund.20140507.194401.486567/step-0-reducer_part-00001 -> /var/folders/80/c2kfvdvx5cx570r4vlzqgb840000gq/T/mr_word_freq_counters.yoavfreund.20140507.194401.486567/output/part-00001\r\n",
        "Streaming final output from /var/folders/80/c2kfvdvx5cx570r4vlzqgb840000gq/T/mr_word_freq_counters.yoavfreund.20140507.194401.486567/output\r\n",
        "removing tmp directory /var/folders/80/c2kfvdvx5cx570r4vlzqgb840000gq/T/mr_word_freq_counters.yoavfreund.20140507.194401.486567\r\n"
       ]
      }
     ],
     "prompt_number": 7
    },
    {
     "cell_type": "heading",
     "level": 2,
     "metadata": {},
     "source": [
      "Runners and job flows"
     ]
    },
    {
     "cell_type": "markdown",
     "metadata": {},
     "source": [
      "Runners run your job on a resource: **inline**,**local**,**Hadoop** or **EMR**\n",
      "\n",
      "By default, mrjob, when running with the option **-r emr**, will create a Cluster on EMR for the job, run the job, and then\n",
      "dismantle the cluster.\n",
      "\n",
      "As setting up a cluster can take a long time (hours), it is usually better to keep the hadoop cluster running and send to it additional jobs. From this perspective, an EMR cluster is called a **job flow**."
     ]
    },
    {
     "cell_type": "code",
     "collapsed": false,
     "input": [
      "from mrjob.emr import EMRJobRunner"
     ],
     "language": "python",
     "metadata": {},
     "outputs": [],
     "prompt_number": 1
    },
    {
     "cell_type": "code",
     "collapsed": false,
     "input": [
      "%cd ../../../Vault/\n",
      "!ls -l\n",
      "from AWSYoav_Freund import *\n",
      "%cd ../UCSD_BigData/notebooks/mrjob/"
     ],
     "language": "python",
     "metadata": {},
     "outputs": [
      {
       "output_type": "stream",
       "stream": "stdout",
       "text": [
        "/Users/yoavfreund/academic.papers/Courses/BigDataAnalytics/Vault\n",
        "total 24\r\n",
        "-rw-r--r--  1 yoavfreund  staff   597 May  6 17:52 AWSYoav_Freund.py\r\n",
        "-rw-r--r--  1 yoavfreund  staff   598 May  6 17:52 AWSYoav_Student.py\r\n",
        "-rw-r--r--  1 yoavfreund  staff  2686 May  7 11:48 mrjob.conf\r\n"
       ]
      },
      {
       "output_type": "stream",
       "stream": "stdout",
       "text": [
        "/Users/yoavfreund/academic.papers/Courses/BigDataAnalytics/UCSD_BigData/notebooks/mrjob\n"
       ]
      }
     ],
     "prompt_number": 2
    },
    {
     "cell_type": "code",
     "collapsed": false,
     "input": [
      "JobRunner = EMRJobRunner(aws_access_key_id=aws_access_key_id,aws_secret_access_key=aws_secret_access_key)"
     ],
     "language": "python",
     "metadata": {},
     "outputs": [],
     "prompt_number": 3
    },
    {
     "cell_type": "code",
     "collapsed": false,
     "input": [
      "emr_conn = JobRunner.make_emr_conn()"
     ],
     "language": "python",
     "metadata": {},
     "outputs": [],
     "prompt_number": 4
    },
    {
     "cell_type": "code",
     "collapsed": false,
     "input": [
      "job_flows=emr_conn.describe_jobflows()"
     ],
     "language": "python",
     "metadata": {},
     "outputs": [],
     "prompt_number": 5
    },
    {
     "cell_type": "code",
     "collapsed": false,
     "input": [
      "type(job_flows[0])"
     ],
     "language": "python",
     "metadata": {},
     "outputs": [
      {
       "metadata": {},
       "output_type": "pyout",
       "prompt_number": 6,
       "text": [
        "boto.emr.emrobject.JobFlow"
       ]
      }
     ],
     "prompt_number": 6
    },
    {
     "cell_type": "code",
     "collapsed": false,
     "input": [
      "for flow in job_flows:\n",
      "    print flow,flow.name,flow.jobflowid,flow.state"
     ],
     "language": "python",
     "metadata": {},
     "outputs": [
      {
       "output_type": "stream",
       "stream": "stdout",
       "text": [
        "<boto.emr.emrobject.JobFlow object at 0x108995690> My cluster j-35O01QLMRUFED WAITING\n",
        "<boto.emr.emrobject.JobFlow object at 0x10899e290> mr_word_freq_count.yoavfreund.20140508.141408.998481 j-1QCXB5Q0VHRB2 COMPLETED\n",
        "<boto.emr.emrobject.JobFlow object at 0x10899e710> mr_word_freq_count.yoavfreund.20140507.161040.869606 j-NXJGTL9EFM35 COMPLETED\n",
        "<boto.emr.emrobject.JobFlow object at 0x10899eb90> A 6 node spot market cluster j-A0JHEG86PAGJ FAILED\n",
        "<boto.emr.emrobject.JobFlow object at 0x10899ee10> My cluster j-3MMGSXIO3FQR3 TERMINATED\n",
        "<boto.emr.emrobject.JobFlow object at 0x1089a9ed0> A 6 node spot market cluster j-2M58Y9QSWOIFH FAILED\n",
        "<boto.emr.emrobject.JobFlow object at 0x1089ae190> A 6 node spot market cluster j-13O1ZEWJ0595Q FAILED\n",
        "<boto.emr.emrobject.JobFlow object at 0x1089ae410> My Bigger Cluster j-1BCZIG7KD2S0K FAILED\n",
        "<boto.emr.emrobject.JobFlow object at 0x1089ae650> My Bigger Cluster j-6ZU44Z9AXTQ3 FAILED\n",
        "<boto.emr.emrobject.JobFlow object at 0x1089ae890> My Bigger Cluster j-2E4BUM0ADD3MX FAILED\n",
        "<boto.emr.emrobject.JobFlow object at 0x1089aead0> My Bigger Cluster j-19ZLC6D8RI1E4 TERMINATED\n",
        "<boto.emr.emrobject.JobFlow object at 0x1089aed10> My Bigger Cluster j-KZSDWFOETODE TERMINATED\n",
        "<boto.emr.emrobject.JobFlow object at 0x1089aef50> My Bigger Cluster j-2DP66KPYB7NHE TERMINATED\n"
       ]
      }
     ],
     "prompt_number": 7
    },
    {
     "cell_type": "code",
     "collapsed": false,
     "input": [
      "flow.jobflowid"
     ],
     "language": "python",
     "metadata": {},
     "outputs": [
      {
       "metadata": {},
       "output_type": "pyout",
       "prompt_number": 8,
       "text": [
        "u'j-2DP66KPYB7NHE'"
       ]
      }
     ],
     "prompt_number": 8
    },
    {
     "cell_type": "code",
     "collapsed": false,
     "input": [
      "!ls /home/ubuntu/Vault/"
     ],
     "language": "python",
     "metadata": {},
     "outputs": [],
     "prompt_number": 71
    },
    {
     "cell_type": "code",
     "collapsed": false,
     "input": [
      "1+1"
     ],
     "language": "python",
     "metadata": {},
     "outputs": [
      {
       "metadata": {},
       "output_type": "pyout",
       "prompt_number": 81,
       "text": [
        "2"
       ]
      }
     ],
     "prompt_number": 81
    },
    {
     "cell_type": "code",
     "collapsed": false,
     "input": [],
     "language": "python",
     "metadata": {},
     "outputs": []
    }
   ],
   "metadata": {}
  }
 ]
}