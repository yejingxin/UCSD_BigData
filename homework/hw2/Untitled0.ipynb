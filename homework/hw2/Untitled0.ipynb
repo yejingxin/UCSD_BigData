{
 "metadata": {
  "name": "",
  "signature": "sha256:2d155829e2bcb4f1eafd9927a3dc7c4ddb7b5cfbdcf8e8fcbc7479f88365af57"
 },
 "nbformat": 3,
 "nbformat_minor": 0,
 "worksheets": [
  {
   "cells": [
    {
     "cell_type": "code",
     "collapsed": false,
     "input": [
      "from sklearn.datasets import load_iris\n",
      "iris = load_iris()\n",
      "X = iris.data\n",
      "y = iris.target\n",
      "print shape(X),shape(y)"
     ],
     "language": "python",
     "metadata": {},
     "outputs": [
      {
       "output_type": "stream",
       "stream": "stdout",
       "text": [
        "(150, 4) (150,)\n"
       ]
      }
     ],
     "prompt_number": 1
    },
    {
     "cell_type": "code",
     "collapsed": false,
     "input": [
      "hwdir = '/home/ubuntu/UCSD_BigData/homework/hw2/'\n",
      "out=open(hwdir+'data_length_1st_readable.dat','w')\n",
      "for line in open(hwdir+'data_length_1st.dat','r').readlines():\n",
      "    if not line.startswith('\"Useless Useless\"'):\n",
      "        line=line.replace('[','')\n",
      "        line=line.replace(']','')\n",
      "        line=line.replace(',','')\n",
      "        line=line.replace('\\t',' ')\n",
      "        out.write(line)\n",
      "out.close()\n",
      "out=open(hwdir+'data_length_2nd_01_readable.dat','w')\n",
      "for line in open(hwdir+'data_length_2nd_01.dat','r').readlines():\n",
      "    if not line.startswith('\"Useless Useless\"'):\n",
      "        line=line.replace('[','')\n",
      "        line=line.replace(']','')\n",
      "        line=line.replace(',','')\n",
      "        line=line.replace('\\t',' ')\n",
      "        out.write(line)\n",
      "out.close()\n",
      "out=open(hwdir+'data_length_2nd_12_readable.dat','w')\n",
      "for line in open(hwdir+'data_length_2nd_12.dat','r').readlines():\n",
      "    if not line.startswith('\"Useless Useless\"'):\n",
      "        line=line.replace('[','')\n",
      "        line=line.replace(']','')\n",
      "        line=line.replace(',','')\n",
      "        line=line.replace('\\t',' ')\n",
      "        out.write(line)\n",
      "out.close()"
     ],
     "language": "python",
     "metadata": {},
     "outputs": [],
     "prompt_number": 1
    },
    {
     "cell_type": "code",
     "collapsed": false,
     "input": [
      "import numpy as np\n",
      "a = np.loadtxt(hwdir+'data_length_1st_readable.dat',delimiter=' ')\n",
      "Npartition = np.shape(a)[0]\n",
      "level1 = np.zeros([Npartition,3])\n",
      "for i in range(Npartition):\n",
      "    level1[a[i,0],:2] = a[i,1:]\n",
      "    level1[a[i,0],2] = a[i,1]*a[i,2] + (a[i,2]+1)*365*2\n",
      "scatter(range(Npartition),level1[:,1])\n",
      "xlabel('partition label')\n",
      "ylabel('# eigenvectors')"
     ],
     "language": "python",
     "metadata": {},
     "outputs": [
      {
       "metadata": {},
       "output_type": "pyout",
       "prompt_number": 61,
       "text": [
        "<matplotlib.text.Text at 0x510ae50>"
       ]
      },
      {
       "metadata": {},
       "output_type": "display_data",
       "png": "[encoded data removed]",
       "text": [
        "<matplotlib.figure.Figure at 0x4c44c90>"
       ]
      }
     ],
     "prompt_number": 61
    },
    {
     "cell_type": "code",
     "collapsed": false,
     "input": [],
     "language": "python",
     "metadata": {},
     "outputs": [],
     "prompt_number": 43
    },
    {
     "cell_type": "code",
     "collapsed": false,
     "input": [
      "b1 = np.loadtxt(hwdir+'data_length_2nd_01_readable.dat',delimiter=' ')\n",
      "b2 = np.loadtxt(hwdir+'data_length_2nd_12_readable.dat',delimiter=' ')\n",
      "b = np.concatenate((b1,b2), axis=0)\n",
      "N_pos_merge = np.shape(b)[0]\n",
      "level2 = np.zeros([N_pos_merge,5])\n",
      "for i in range(N_pos_merge):\n",
      "    level2[i,:4] = b[i,:]\n",
      "    level2[i,-1] = b[i,2]*b[i,3] + (b[i,3]+1)*365*2\n",
      "def findmerge(a,b):\n",
      "    result = np.zeros([Npartition-1,2])\n",
      "    for i in range(N_pos_merge):\n",
      "        #Eprint i,a[b[i,0],0],a[b[i,1],0]\n",
      "        #print i,b[i,:]\n",
      "        assert (a[b[i,0],0]+a[b[i,1],0] == b[i,2] ),'indices not match'\n",
      "        result[b[i,0],1]=level1[b[i,0],-1]+level1[b[i,1],-1] - b[i,-1]\n",
      "        if level1[b[i,0],-1]+level1[b[i,1],-1] >= b[i,-1]:\n",
      "            result[b[i,0],0]=1\n",
      "            #print level1[b[i,0],-1]+level1[b[i,1],-1],  b[i,-1]\n",
      "            #result[b[i,0],1]=level1[b[i,0],-1]+level1[b[i,1],-1] - b[i,-1]\n",
      "    return result\n",
      "\n",
      "result= findmerge(level1,level2)\n",
      "scatter(range(N_pos_merge),result[:,1])\n",
      "xlabel('possible merge (i,i+1)')\n",
      "ylabel('Description length (Before-After)')\n",
      "axhline(y=0)"
     ],
     "language": "python",
     "metadata": {},
     "outputs": [
      {
       "metadata": {},
       "output_type": "pyout",
       "prompt_number": 62,
       "text": [
        "<matplotlib.lines.Line2D at 0x53b0b90>"
       ]
      },
      {
       "metadata": {},
       "output_type": "display_data",
       "png": "[encoded data removed]",
       "text": [
        "<matplotlib.figure.Figure at 0x4798050>"
       ]
      }
     ],
     "prompt_number": 62
    },
    {
     "cell_type": "code",
     "collapsed": false,
     "input": [
      "partition = [0.00111619, 0.17613500000000001, 0.34981699999999999, 0.58332499999999998, 0.79423999999999995, 1.00501, 1.27108, 1.5664199999999999, 1.8915299999999999, 2.2266599999999999, 2.5863399999999999, 3.06643, 3.47878, 4.0275299999999996, 4.8578999999999999, 6.2343400000000004, 8.0124999999999993, 10.3308, 13.1279, 16.418500000000002, 20.5489, 24.113, 28.9435, 32.964300000000001, 38.212899999999998, 43.241199999999999, 48.4848, 55.499099999999999, 61.6175, 67.985900000000001, 74.698300000000003, 80.658799999999999, 86.571799999999996, 93.347700000000003, 101.288, 109.392, 118.56100000000001, 125.324, 132.815, 141.48400000000001, 150.488, 158.84899999999999, 166.96600000000001, 175.03299999999999, 184.33099999999999, 193.232, 201.90299999999999, 211.86099999999999, 221.988, 230.15000000000001, 239.518, 249.18199999999999, 259.18099999999998, 267.80000000000001, 277.02100000000002, 285.73200000000003, 296.11700000000002, 305.43599999999998, 318.54000000000002, 329.23599999999999, 339.06900000000002, 349.93900000000002, 362.11500000000001, 374.21800000000002, 384.43700000000001, 397.017, 411.47800000000001, 423.286, 435.75200000000001, 448.99099999999999, 463.12700000000001, 477.971, 494.74400000000003, 507.63600000000008, 524.69000000000005, 538.98599999999999, 552.08500000000004, 568.18399999999997, 583.28499999999997, 596.28099999999995, 611.298, 624.94600000000003, 638.56299999999999, 654.63900000000001, 667.77700000000004, 684.76400000000001, 700.26599999999996, 714.97699999999998, 729.327, 743.54999999999995, 757.87199999999996, 773.39700000000005, 788.55600000000004, 801.83699999999999, 816.37, 834.6389999999999, 850.04999999999995, 867.471, 880.35500000000002, 895.50999999999999, 910.68399999999997, 925.07299999999998, 943.13800000000003, 956.39499999999998, 971.60400000000004, 987.33299999999997, 1001.65, 1019.4299999999999, 1035.04, 1049.5899999999999, 1067.6199999999999, 1085.01, 1106.6199999999999, 1127.8299999999999, 1148.74, 1168.54, 1188.5, 1210.3599999999999, 1234.05, 1258.3900000000001, 1284.75, 1315.5899999999999, 1346.03, 1382.03, 1421.3699999999999, 1466.6099999999999, 1522.98, 1677.3499999999999, 2489.3400000000001]\n",
      "\n",
      "\n"
     ],
     "language": "python",
     "metadata": {},
     "outputs": [],
     "prompt_number": 17
    },
    {
     "cell_type": "code",
     "collapsed": false,
     "input": [
      "import matplotlib.pyplot as plt\n",
      "import numpy as np\n",
      "N = len(partition)\n",
      "x = range(N)\n",
      "print N\n",
      "# show how to use transforms to create axes spans where a certain condition is satisfied\n",
      "fig=plt.figure(figsize=(15,10),dpi=300)\n",
      "ax = fig.add_subplot(111)\n",
      "color = ['r', 'g', 'b', 'y','c', 'm', 'k']\n",
      "for i in range(N-1):\n",
      "    #ax.axvspan(partition[i], partition[i+1], alpha=0.5, color=color[i%7])\n",
      "    ax.axvspan(x[i], x[i+1], alpha=0.5, color=color[i%7])\n",
      "    #ax.fill_between(x, partition[i], partition[i+1],facecolor=color[i%7], edgecolor=\"none\", linewidth=0.0)\n",
      "#ax.fill_between(x, 0.5, 1, facecolor='red')\n",
      "#ax.set_yscale('log', basey=1.01)\n",
      "\n",
      "plt.show()"
     ],
     "language": "python",
     "metadata": {},
     "outputs": [
      {
       "output_type": "stream",
       "stream": "stdout",
       "text": [
        "129\n"
       ]
      },
      {
       "metadata": {},
       "output_type": "display_data",
       "png": "[encoded data removed]",
       "text": [
        "<matplotlib.figure.Figure at 0x46ac110>"
       ]
      }
     ],
     "prompt_number": 41
    },
    {
     "cell_type": "code",
     "collapsed": false,
     "input": [
      "a = [[0,20,7],[1,21,6],[2,24,7],[3,26,8]]\n",
      "b = [[0,1,41,5],[1,2,45,100],[2,3,50,6]]\n",
      "import numpy as np\n",
      "a = np.array(a)\n",
      "b = np.array(b)\n",
      "Npartition = np.shape(a)[0]\n",
      "N_pos_merge = np.shape(b)[0]\n",
      "level1 = np.zeros([Npartition,3])\n",
      "level2 = np.zeros([N_pos_merge,5])\n",
      "for i in range(Npartition):\n",
      "    level1[i,:2] = a[i,1:]\n",
      "    level1[i,2] = a[i,1]*a[i,2] + (a[i,2]+1)*365*2\n",
      "\n",
      "for i in range(N_pos_merge):\n",
      "    level2[i,:4] = b[i,:]\n",
      "    level2[i,-1] = b[i,2]*b[i,3] + (b[i,3]+1)*365*2\n",
      "\n",
      "def findmerge(a,b):\n",
      "    result = np.zeros(Npartition-1)\n",
      "    for i in range(N_pos_merge):\n",
      "        assert (a[b[i,0],0]+a[b[i,1],0] == b[i,2] ),'indices not match'\n",
      "        if level1[b[i,0],-1]+level1[b[i,1],-1] > b[i,-1]:\n",
      "            result[b[i,0]]=1\n",
      "    return result\n",
      "\n",
      "print findmerge(level1,level2)"
     ],
     "language": "python",
     "metadata": {},
     "outputs": [
      {
       "output_type": "stream",
       "stream": "stdout",
       "text": [
        "41.0\n",
        "41.0\n",
        "45.0\n",
        "45.0\n",
        "50.0\n",
        "50.0\n",
        "[ 1.  0.  1.]\n"
       ]
      }
     ],
     "prompt_number": 5
    },
    {
     "cell_type": "code",
     "collapsed": false,
     "input": [
      "from sklearn.decomposition import PCA\n",
      "pca = PCA(n_components=4, whiten=True)\n",
      "pca.fit(X)\n",
      "print pca.explained_variance_ratio_\n",
      "print pca.components_\n",
      "print sum(pca.explained_variance_ratio_)"
     ],
     "language": "python",
     "metadata": {},
     "outputs": [
      {
       "output_type": "stream",
       "stream": "stdout",
       "text": [
        "[ 0.92461621  0.05301557  0.01718514  0.00518309]\n",
        "[[ 0.17650757 -0.04015901  0.41812992  0.17516725]\n",
        " [-1.33840478 -1.48757227  0.35831476  0.15229463]\n",
        " [ 2.08029843 -2.13551363 -0.25967715 -1.96594819]\n",
        " [ 2.06843437 -2.11302849 -3.12766908  4.89715149]]\n",
        "1.0\n"
       ]
      }
     ],
     "prompt_number": 10
    },
    {
     "cell_type": "code",
     "collapsed": false,
     "input": [
      "from sklearn.decomposition import PCA\n",
      "def mypca(X,n):\n",
      "    pca = PCA(n_components=n, whiten=True)\n",
      "    pca.fit(X)\n",
      "    sum1 = 0\n",
      "    for i in range(n):\n",
      "        sum1 = sum1 + pca.explained_variance_ratio_[i]\n",
      "        if sum1 > 0.99:\n",
      "            break\n",
      "    return i"
     ],
     "language": "python",
     "metadata": {},
     "outputs": [],
     "prompt_number": 7
    },
    {
     "cell_type": "code",
     "collapsed": false,
     "input": [
      "mypca(iris.data,4)"
     ],
     "language": "python",
     "metadata": {},
     "outputs": [
      {
       "metadata": {},
       "output_type": "pyout",
       "prompt_number": 8,
       "text": [
        "2"
       ]
      }
     ],
     "prompt_number": 8
    },
    {
     "cell_type": "code",
     "collapsed": false,
     "input": [
      "import numpy as np\n",
      "print np.array([[1,2,3],[2,3,4],[3,4,5]])"
     ],
     "language": "python",
     "metadata": {},
     "outputs": [
      {
       "output_type": "stream",
       "stream": "stdout",
       "text": [
        "[[1 2 3]\n",
        " [2 3 4]\n",
        " [3 4 5]]\n"
       ]
      }
     ],
     "prompt_number": 4
    },
    {
     "cell_type": "code",
     "collapsed": false,
     "input": [
      "test = iris.data\n",
      "print list(test)"
     ],
     "language": "python",
     "metadata": {},
     "outputs": [
      {
       "output_type": "stream",
       "stream": "stdout",
       "text": [
        "[array([ 5.1,  3.5,  1.4,  0.2]), array([ 4.9,  3. ,  1.4,  0.2]), array([ 4.7,  3.2,  1.3,  0.2]), array([ 4.6,  3.1,  1.5,  0.2]), array([ 5. ,  3.6,  1.4,  0.2]), array([ 5.4,  3.9,  1.7,  0.4]), array([ 4.6,  3.4,  1.4,  0.3]), array([ 5. ,  3.4,  1.5,  0.2]), array([ 4.4,  2.9,  1.4,  0.2]), array([ 4.9,  3.1,  1.5,  0.1]), array([ 5.4,  3.7,  1.5,  0.2]), array([ 4.8,  3.4,  1.6,  0.2]), array([ 4.8,  3. ,  1.4,  0.1]), array([ 4.3,  3. ,  1.1,  0.1]), array([ 5.8,  4. ,  1.2,  0.2]), array([ 5.7,  4.4,  1.5,  0.4]), array([ 5.4,  3.9,  1.3,  0.4]), array([ 5.1,  3.5,  1.4,  0.3]), array([ 5.7,  3.8,  1.7,  0.3]), array([ 5.1,  3.8,  1.5,  0.3]), array([ 5.4,  3.4,  1.7,  0.2]), array([ 5.1,  3.7,  1.5,  0.4]), array([ 4.6,  3.6,  1. ,  0.2]), array([ 5.1,  3.3,  1.7,  0.5]), array([ 4.8,  3.4,  1.9,  0.2]), array([ 5. ,  3. ,  1.6,  0.2]), array([ 5. ,  3.4,  1.6,  0.4]), array([ 5.2,  3.5,  1.5,  0.2]), array([ 5.2,  3.4,  1.4,  0.2]), array([ 4.7,  3.2,  1.6,  0.2]), array([ 4.8,  3.1,  1.6,  0.2]), array([ 5.4,  3.4,  1.5,  0.4]), array([ 5.2,  4.1,  1.5,  0.1]), array([ 5.5,  4.2,  1.4,  0.2]), array([ 4.9,  3.1,  1.5,  0.1]), array([ 5. ,  3.2,  1.2,  0.2]), array([ 5.5,  3.5,  1.3,  0.2]), array([ 4.9,  3.1,  1.5,  0.1]), array([ 4.4,  3. ,  1.3,  0.2]), array([ 5.1,  3.4,  1.5,  0.2]), array([ 5. ,  3.5,  1.3,  0.3]), array([ 4.5,  2.3,  1.3,  0.3]), array([ 4.4,  3.2,  1.3,  0.2]), array([ 5. ,  3.5,  1.6,  0.6]), array([ 5.1,  3.8,  1.9,  0.4]), array([ 4.8,  3. ,  1.4,  0.3]), array([ 5.1,  3.8,  1.6,  0.2]), array([ 4.6,  3.2,  1.4,  0.2]), array([ 5.3,  3.7,  1.5,  0.2]), array([ 5. ,  3.3,  1.4,  0.2]), array([ 7. ,  3.2,  4.7,  1.4]), array([ 6.4,  3.2,  4.5,  1.5]), array([ 6.9,  3.1,  4.9,  1.5]), array([ 5.5,  2.3,  4. ,  1.3]), array([ 6.5,  2.8,  4.6,  1.5]), array([ 5.7,  2.8,  4.5,  1.3]), array([ 6.3,  3.3,  4.7,  1.6]), array([ 4.9,  2.4,  3.3,  1. ]), array([ 6.6,  2.9,  4.6,  1.3]), array([ 5.2,  2.7,  3.9,  1.4]), array([ 5. ,  2. ,  3.5,  1. ]), array([ 5.9,  3. ,  4.2,  1.5]), array([ 6. ,  2.2,  4. ,  1. ]), array([ 6.1,  2.9,  4.7,  1.4]), array([ 5.6,  2.9,  3.6,  1.3]), array([ 6.7,  3.1,  4.4,  1.4]), array([ 5.6,  3. ,  4.5,  1.5]), array([ 5.8,  2.7,  4.1,  1. ]), array([ 6.2,  2.2,  4.5,  1.5]), array([ 5.6,  2.5,  3.9,  1.1]), array([ 5.9,  3.2,  4.8,  1.8]), array([ 6.1,  2.8,  4. ,  1.3]), array([ 6.3,  2.5,  4.9,  1.5]), array([ 6.1,  2.8,  4.7,  1.2]), array([ 6.4,  2.9,  4.3,  1.3]), array([ 6.6,  3. ,  4.4,  1.4]), array([ 6.8,  2.8,  4.8,  1.4]), array([ 6.7,  3. ,  5. ,  1.7]), array([ 6. ,  2.9,  4.5,  1.5]), array([ 5.7,  2.6,  3.5,  1. ]), array([ 5.5,  2.4,  3.8,  1.1]), array([ 5.5,  2.4,  3.7,  1. ]), array([ 5.8,  2.7,  3.9,  1.2]), array([ 6. ,  2.7,  5.1,  1.6]), array([ 5.4,  3. ,  4.5,  1.5]), array([ 6. ,  3.4,  4.5,  1.6]), array([ 6.7,  3.1,  4.7,  1.5]), array([ 6.3,  2.3,  4.4,  1.3]), array([ 5.6,  3. ,  4.1,  1.3]), array([ 5.5,  2.5,  4. ,  1.3]), array([ 5.5,  2.6,  4.4,  1.2]), array([ 6.1,  3. ,  4.6,  1.4]), array([ 5.8,  2.6,  4. ,  1.2]), array([ 5. ,  2.3,  3.3,  1. ]), array([ 5.6,  2.7,  4.2,  1.3]), array([ 5.7,  3. ,  4.2,  1.2]), array([ 5.7,  2.9,  4.2,  1.3]), array([ 6.2,  2.9,  4.3,  1.3]), array([ 5.1,  2.5,  3. ,  1.1]), array([ 5.7,  2.8,  4.1,  1.3]), array([ 6.3,  3.3,  6. ,  2.5]), array([ 5.8,  2.7,  5.1,  1.9]), array([ 7.1,  3. ,  5.9,  2.1]), array([ 6.3,  2.9,  5.6,  1.8]), array([ 6.5,  3. ,  5.8,  2.2]), array([ 7.6,  3. ,  6.6,  2.1]), array([ 4.9,  2.5,  4.5,  1.7]), array([ 7.3,  2.9,  6.3,  1.8]), array([ 6.7,  2.5,  5.8,  1.8]), array([ 7.2,  3.6,  6.1,  2.5]), array([ 6.5,  3.2,  5.1,  2. ]), array([ 6.4,  2.7,  5.3,  1.9]), array([ 6.8,  3. ,  5.5,  2.1]), array([ 5.7,  2.5,  5. ,  2. ]), array([ 5.8,  2.8,  5.1,  2.4]), array([ 6.4,  3.2,  5.3,  2.3]), array([ 6.5,  3. ,  5.5,  1.8]), array([ 7.7,  3.8,  6.7,  2.2]), array([ 7.7,  2.6,  6.9,  2.3]), array([ 6. ,  2.2,  5. ,  1.5]), array([ 6.9,  3.2,  5.7,  2.3]), array([ 5.6,  2.8,  4.9,  2. ]), array([ 7.7,  2.8,  6.7,  2. ]), array([ 6.3,  2.7,  4.9,  1.8]), array([ 6.7,  3.3,  5.7,  2.1]), array([ 7.2,  3.2,  6. ,  1.8]), array([ 6.2,  2.8,  4.8,  1.8]), array([ 6.1,  3. ,  4.9,  1.8]), array([ 6.4,  2.8,  5.6,  2.1]), array([ 7.2,  3. ,  5.8,  1.6]), array([ 7.4,  2.8,  6.1,  1.9]), array([ 7.9,  3.8,  6.4,  2. ]), array([ 6.4,  2.8,  5.6,  2.2]), array([ 6.3,  2.8,  5.1,  1.5]), array([ 6.1,  2.6,  5.6,  1.4]), array([ 7.7,  3. ,  6.1,  2.3]), array([ 6.3,  3.4,  5.6,  2.4]), array([ 6.4,  3.1,  5.5,  1.8]), array([ 6. ,  3. ,  4.8,  1.8]), array([ 6.9,  3.1,  5.4,  2.1]), array([ 6.7,  3.1,  5.6,  2.4]), array([ 6.9,  3.1,  5.1,  2.3]), array([ 5.8,  2.7,  5.1,  1.9]), array([ 6.8,  3.2,  5.9,  2.3]), array([ 6.7,  3.3,  5.7,  2.5]), array([ 6.7,  3. ,  5.2,  2.3]), array([ 6.3,  2.5,  5. ,  1.9]), array([ 6.5,  3. ,  5.2,  2. ]), array([ 6.2,  3.4,  5.4,  2.3]), array([ 5.9,  3. ,  5.1,  1.8])]\n"
       ]
      }
     ],
     "prompt_number": 3
    },
    {
     "cell_type": "code",
     "collapsed": false,
     "input": [
      "%%writefile mr_weather_pca_level2_01_test.py\n",
      "#!/usr/bin/python\n",
      "\"\"\"\n",
      "PCA\n",
      "\"\"\"\n",
      "import sys\n",
      "sys.path.append('/usr/lib/python2.6/dist-packages')\n",
      "from mrjob.job import MRJob\n",
      "import re,pickle,base64,zlib\n",
      "from sys import stderr\n",
      "import pandas as pd\n",
      "import numpy as np\n",
      "from sklearn.decomposition import PCA\n",
      "\n",
      "def loads(eVal):\n",
      "    \"\"\" Decode a string into a value \"\"\"\n",
      "    return pickle.loads(zlib.decompress(base64.b64decode(eVal)))\n",
      "\n",
      "def dumps(Value):\n",
      "    \"\"\" Encode a value as a string \"\"\"\n",
      "    return base64.b64encode(zlib.compress(pickle.dumps(Value),9))\n",
      "\n",
      "def mypca(X,n):\n",
      "    pca = PCA(n_components=n, whiten=True)\n",
      "    pca.fit(X)\n",
      "    sum1 = 0\n",
      "    for i in range(n):\n",
      "        sum1 = sum1 + pca.explained_variance_ratio_[i]\n",
      "        if sum1 > 0.99:\n",
      "            break\n",
      "    return i,pca.components_\n",
      "\n",
      "Station_dict = pickle.load( open( \"Station_dict.pkl\", \"rb\" ) )\n",
      "\n",
      "class MRWeather_pca(MRJob):\n",
      "    def extract_meas_mapper(self, _, line):\n",
      "        self.increment_counter('MrJob Counters','extract_meas_mapper',1)\n",
      "        elements=line.split(',')\n",
      "        if elements[1]=='TMAX' or elements[1]=='TMIN':\n",
      "            Ndays = sum([e!='' for e in elements[3:]])\n",
      "            meas = 1\n",
      "            yield (elements[0],elements[2]), (meas,Ndays,elements[3:])\n",
      "            \n",
      "    def extract_meas_reducer(self, key, meas_set):\n",
      "        self.increment_counter('MrJob Counters','extract_meas_reducer',1)\n",
      "        sum1 = 0\n",
      "        sum2 = 0\n",
      "        total_meas = []\n",
      "        for Nmeas,Ndays,meas in meas_set:\n",
      "            sum1 = sum1 + Nmeas\n",
      "            sum2 = sum2 + Ndays\n",
      "            total_meas = total_meas + meas\n",
      "        if sum1 == 2 and sum2>200:\n",
      "            yield key, (Station_dict[key[0]],total_meas)\n",
      "            \n",
      "    def mean_mapper(self, key, key_meas):\n",
      "        value = []\n",
      "        for each in key_meas[1]:\n",
      "            if each == '':\n",
      "                value.append(np.nan)\n",
      "            else:\n",
      "                value.append(float(each))\n",
      "        s = pd.Series(value)\n",
      "        s = s.interpolate()\n",
      "        s = s.fillna(s.mean())\n",
      "        out = list(s)\n",
      "        yield key_meas[0], out[:10]\n",
      "    \n",
      "    def mean_reducer(self, key, meas):\n",
      "        tmp = list(meas)\n",
      "        #s_total = pd.concat(meas,axis=1)\n",
      "        yield key, tmp#s_totals_total.mean().values\n",
      "        \n",
      "    def merge_01(self, key, data):\n",
      "        tmp = list(data)\n",
      "        outputkey = 2*int(key/2)\n",
      "        yield 130, tmp\n",
      "        \n",
      "    def do_pca(self,key,data):\n",
      "        tmp = list(data)#[0]\n",
      "        tmp1 = []\n",
      "        for i in range(len(tmp)):\n",
      "            tmp1 = tmp1 + tmp[i]\n",
      "        tmpdata = np.array(tmp1)\n",
      "        k,n = np.shape(tmpdata)\n",
      "        explain_length,eigenvectors = mypca(tmpdata,n)\n",
      "        eigv = list(eigenvectors)\n",
      "        yield key, [k,explain_length]#[explain_length,eigenvectors]\n",
      "    \n",
      "    def steps(self):\n",
      "        \"\"\"TODO: Document what you expect each mapper and reducer to produce:\n",
      "        mapper1: <line, record> => <key, value>\n",
      "        reducer1: <key, [values]>\n",
      "        mapper2: ...\n",
      "        \"\"\"\n",
      "        return [self.mr(mapper=self.extract_meas_mapper, reducer=self.extract_meas_reducer),\n",
      "                self.mr(mapper=self.mean_mapper, reducer=self.mean_reducer),\n",
      "                self.mr(mapper=self.merge_01, reducer=self.do_pca)]\n",
      "if __name__ == '__main__':\n",
      "    MRWeather_pca.run()"
     ],
     "language": "python",
     "metadata": {},
     "outputs": [
      {
       "output_type": "stream",
       "stream": "stdout",
       "text": [
        "Overwriting mr_weather_pca_level2_01_test.py\n"
       ]
      }
     ],
     "prompt_number": 94
    },
    {
     "cell_type": "code",
     "collapsed": false,
     "input": [
      "import numpy as np\n",
      "a = [[[-10, -50], [-10.0, -10.0], [-10.0, 30.0], [-10.0, 50.0], [-20, -10], [-20, -20], [-20, -20], [-20.0, -20.0], [-20.0, 20.0], [-28.0, -53.0], [-30.0, -10.0], [-30.0, -20.0], [-30.0, -30.0], [-30.0, -30.0], [-30.0, -50.0], [-40, -50], [-40, 20], [-40.0, -20.0], [-40.0, -40.0], [-50.0, -40.0], [-50.0, -60.0], [-60.0, -30.0], [-60.0, -60.0], [-65, -65], [-80.0, -80.0], [-90.0, -90.0], [115.02732240437159, 115.02732240437159], [120.0, 130.0], [122.89437585733882, -10.0], [130.07868383404863, 130.07868383404863], [130.23643410852713, 130.23643410852713], [131.98216735253772, -30.0], [132.32142857142858, 132.32142857142858], [137.77777777777777, -20.0], [144.62277091906722, -20.0], [20, 25], [20.0, -20.0], [20.0, -30.0], [200.0, 200.0], [30.0, 30.0], [40, -40], [40.0, -30.0], [50.0, 30.0], [60.0, 30.0], [60.0, 57.61904761904762]], [[-106.0, -161.0], [-111, -144], [-117, -106], [-117, -72], [-117.0, -117.0], [-122, -217], [-133.0, -189.0], [-150, -122], [-150.0, -272.0], [-156.0, -94.0], [-167, -211], [-167, -61], [-167.0, -133.0], [-172, -139], [-172.0, -117.0], [-178, -111], [-178, -178], [-183, -128], [-183.0, -233.0], [-189, -78], [-194, -156], [-194.0, -194.0], [-194.0, -211.0], [-200, -172], [-211, -50], [-22.0, -11.0], [-239.0, -178.0], [-28.0, -6.0], [-33, 0], [-44, -128], [-44.0, -28.0], [-50, -89], [-67.0, -117.0], [-78.0, -44.0], [-89, -83], [0, 0], [28.0, 11.0], [75.12732474964234, 75.12732474964234], [75.93484224965707, -111.0]], [[-11.0, 11.0], [-11.0, 28.0], [-17.0, 17.0], [-22, -17], [-28.0, -11.0], [-33.0, -39.0], [-39.0, -11.0], [-39.0, 11.0], [-50, -50], [-56.0, -89.0], [-67.0, -44.0], [0.0, 0.0], [28.0, 22.0], [40.89690721649484, 40.89690721649484], [43.92760617760622, 43.92760617760622], [44.0, 33.0], [55.914878397711014, 55.914878397711014], [61.51544401544401, 61.51544401544401]]]\n",
      "print len(a)\n",
      "tmp = []\n",
      "for i in range(len(a)):\n",
      "    tmp = tmp + a[i]\n",
      "print len(tmp)\n",
      "print len(a[0])+len(a[1]) + len(a[2])\n",
      "print a[1]\n",
      "print a[2]\n",
      "data = np.array(a)\n",
      "print np.shape(data)"
     ],
     "language": "python",
     "metadata": {},
     "outputs": [
      {
       "output_type": "stream",
       "stream": "stdout",
       "text": [
        "3\n",
        "102\n",
        "102\n",
        "[[-106.0, -161.0], [-111, -144], [-117, -106], [-117, -72], [-117.0, -117.0], [-122, -217], [-133.0, -189.0], [-150, -122], [-150.0, -272.0], [-156.0, -94.0], [-167, -211], [-167, -61], [-167.0, -133.0], [-172, -139], [-172.0, -117.0], [-178, -111], [-178, -178], [-183, -128], [-183.0, -233.0], [-189, -78], [-194, -156], [-194.0, -194.0], [-194.0, -211.0], [-200, -172], [-211, -50], [-22.0, -11.0], [-239.0, -178.0], [-28.0, -6.0], [-33, 0], [-44, -128], [-44.0, -28.0], [-50, -89], [-67.0, -117.0], [-78.0, -44.0], [-89, -83], [0, 0], [28.0, 11.0], [75.12732474964234, 75.12732474964234], [75.93484224965707, -111.0]]\n",
        "[[-11.0, 11.0], [-11.0, 28.0], [-17.0, 17.0], [-22, -17], [-28.0, -11.0], [-33.0, -39.0], [-39.0, -11.0], [-39.0, 11.0], [-50, -50], [-56.0, -89.0], [-67.0, -44.0], [0.0, 0.0], [28.0, 22.0], [40.89690721649484, 40.89690721649484], [43.92760617760622, 43.92760617760622], [44.0, 33.0], [55.914878397711014, 55.914878397711014], [61.51544401544401, 61.51544401544401]]\n",
        "(3,)\n"
       ]
      }
     ],
     "prompt_number": 91
    },
    {
     "cell_type": "code",
     "collapsed": false,
     "input": [],
     "language": "python",
     "metadata": {},
     "outputs": []
    },
    {
     "cell_type": "code",
     "collapsed": false,
     "input": [
      "local_data='/home/ubuntu/UCSD_BigData/data/weather/ALL.head.csv'\n",
      "!python mr_weather_pca_level2_01_test.py $local_data #> test2.dat"
     ],
     "language": "python",
     "metadata": {},
     "outputs": [
      {
       "output_type": "stream",
       "stream": "stdout",
       "text": [
        "using configs in /home/ubuntu/.mrjob.conf\r\n",
        "creating tmp directory /tmp/mr_weather_pca_level2_01_test.ubuntu.20140525.224654.525905\r\n"
       ]
      },
      {
       "output_type": "stream",
       "stream": "stdout",
       "text": [
        "writing to /tmp/mr_weather_pca_level2_01_test.ubuntu.20140525.224654.525905/step-0-mapper_part-00000\r\n"
       ]
      },
      {
       "output_type": "stream",
       "stream": "stdout",
       "text": [
        "Counters from step 1:\r\n",
        "  MrJob Counters:\r\n",
        "    extract_meas_mapper: 999\r\n",
        "writing to /tmp/mr_weather_pca_level2_01_test.ubuntu.20140525.224654.525905/step-0-mapper-sorted\r\n",
        "> sort /tmp/mr_weather_pca_level2_01_test.ubuntu.20140525.224654.525905/step-0-mapper_part-00000\r\n"
       ]
      },
      {
       "output_type": "stream",
       "stream": "stdout",
       "text": [
        "writing to /tmp/mr_weather_pca_level2_01_test.ubuntu.20140525.224654.525905/step-0-reducer_part-00000\r\n"
       ]
      },
      {
       "output_type": "stream",
       "stream": "stdout",
       "text": [
        "Counters from step 1:\r\n",
        "  MrJob Counters:\r\n",
        "    extract_meas_mapper: 999\r\n",
        "    extract_meas_reducer: 123\r\n",
        "writing to /tmp/mr_weather_pca_level2_01_test.ubuntu.20140525.224654.525905/step-1-mapper_part-00000\r\n"
       ]
      },
      {
       "output_type": "stream",
       "stream": "stdout",
       "text": [
        "Counters from step 2:\r\n",
        "  (no counters found)\r\n",
        "writing to /tmp/mr_weather_pca_level2_01_test.ubuntu.20140525.224654.525905/step-1-mapper-sorted\r\n",
        "> sort /tmp/mr_weather_pca_level2_01_test.ubuntu.20140525.224654.525905/step-1-mapper_part-00000\r\n"
       ]
      },
      {
       "output_type": "stream",
       "stream": "stdout",
       "text": [
        "writing to /tmp/mr_weather_pca_level2_01_test.ubuntu.20140525.224654.525905/step-1-reducer_part-00000\r\n",
        "Counters from step 2:\r\n",
        "  (no counters found)\r\n",
        "writing to /tmp/mr_weather_pca_level2_01_test.ubuntu.20140525.224654.525905/step-2-mapper_part-00000\r\n",
        "Counters from step 3:\r\n",
        "  (no counters found)\r\n",
        "writing to /tmp/mr_weather_pca_level2_01_test.ubuntu.20140525.224654.525905/step-2-mapper-sorted\r\n",
        "> sort /tmp/mr_weather_pca_level2_01_test.ubuntu.20140525.224654.525905/step-2-mapper_part-00000\r\n"
       ]
      },
      {
       "output_type": "stream",
       "stream": "stdout",
       "text": [
        "writing to /tmp/mr_weather_pca_level2_01_test.ubuntu.20140525.224654.525905/step-2-reducer_part-00000\r\n"
       ]
      },
      {
       "output_type": "stream",
       "stream": "stdout",
       "text": [
        "Counters from step 3:\r\n",
        "  (no counters found)\r\n",
        "Moving /tmp/mr_weather_pca_level2_01_test.ubuntu.20140525.224654.525905/step-2-reducer_part-00000 -> /tmp/mr_weather_pca_level2_01_test.ubuntu.20140525.224654.525905/output/part-00000\r\n",
        "Streaming final output from /tmp/mr_weather_pca_level2_01_test.ubuntu.20140525.224654.525905/output\r\n",
        "0\t[102, 8]\r\n",
        "removing tmp directory /tmp/mr_weather_pca_level2_01_test.ubuntu.20140525.224654.525905\r\n"
       ]
      }
     ],
     "prompt_number": 95
    },
    {
     "cell_type": "code",
     "collapsed": false,
     "input": [
      "!head -2 test2.dat"
     ],
     "language": "python",
     "metadata": {},
     "outputs": [
      {
       "output_type": "stream",
       "stream": "stdout",
       "text": [
        "120.0\t[39, 8]\r\n",
        "41.0\t[45, 7]\r\n"
       ]
      }
     ],
     "prompt_number": 64
    },
    {
     "cell_type": "code",
     "collapsed": false,
     "input": [
      "!head -2 test.dat"
     ],
     "language": "python",
     "metadata": {},
     "outputs": [
      {
       "output_type": "stream",
       "stream": "stdout",
       "text": [
        "120.0\t[[-106.0, -161.0, -167.0, -244.0, -250.0, -183.0, -189.0, -133.0, -94.0, -72.0], [-111, -144, -128, -128, -122, -100, -200, -128, -156, -111], [-117, -106, -89, -117, -139, -122, -128, -139, -89, -100], [-117, -72, -83, -67, -144, -200, -317, -139, -144, -250], [-117.0, -117.0, -94.0, -44.0, -50.0, -94.0, -94.0, -89.0, -100.0, -94.0], [-122, -217, -211, -272, -256, -222, -278, -233, -222, -217], [-133.0, -189.0, -239.0, -206.0, -156.0, -128.0, -128.0, -200.0, -189.0, -94.0], [-150, -122, -122, -156, -150, -267, -317, -206, -39, -50], [-150.0, -272.0, -128.0, -161.0, -106.0, -117.0, -44.0, -206.0, -317.0, -317.0], [-156.0, -94.0, -83.0, -67.0, -128.0, -83.0, -61.0, -106.0, -217.0, -217.0], [-167, -211, -172, -139, -194, -128, -117, -178, -72, -150], [-167, -61, -56, -122, -100, -167, -28, -28, -33, -56], [-167.0, -133.0, -100.0, -144.0, -61.0, -39.0, -83.0, -106.0, -122.0, -139.0], [-172, -139, -194, -228, -156, -156, -211, -167, -183, -250], [-172.0, -117.0, -150.0, -139.0, -161.0, -100.0, -133.0, -150.0, -233.0, -189.0], [-178, -111, 6, 17, 67, 50, 50, -33, -61, 56], [-178, -178, -67, 17, 22, 61, -17, -33, -178, -144], [-183, -128, -28, -17, 39, -17, -33, -106, -94, -239], [-183.0, -233.0, -233.0, -161.0, -119.5, -78.0, -39.0, -72.0, -156.0, -139.0], [-189, -78, -44, -200, -106, -139, -206, -78, -206, -228], [-194, -156, -261, -150, -233, -167, -256, -267, -322, -189], [-194.0, -194.0, -200.0, -239.0, -261.0, -250.0, -211.0, -206.0, -189.0, -172.0], [-194.0, -211.0, -222.0, -117.0, -111.0, -100.0, -28.0, 44.0, 39.0, 17.0], [-200, -172, -117, -256, -272, -306, -239, -217, -300, -206], [-211, -50, -28, -106, -156, -139, -133, -111, -189, -222], [-22.0, -11.0, -94.0, -89.0, -133.0, -94.0, -78.0, -139.0, -106.0, -100.0], [-239.0, -178.0, -133.0, -117.0, -94.0, -144.0, -133.0, -200.0, -172.0, -150.0], [-28.0, -6.0, -172.0, -178.0, -78.0, -72.0, -139.0, -61.0, -211.0, -228.0], [-33, 0, 61, 89, 17, 0, -17, 44, -56, -28], [-44, -128, -239, -200, -300, -322, -339, -100, -6, -100], [-44.0, -28.0, -17.0, 22.0, 17.0, -33.0, 56.0, 94.0, 122.0, -17.0], [-50, -89, -144, -39, -122, -39, -144, -106, -17, -67], [-67.0, -117.0, -122.0, -122.0, -61.0, -50.0, -206.0, -261.0, -289.0, -278.0], [-78.0, -44.0, -39.0, -61.0, -50.0, -133.0, -106.0, -61.0, -72.0, -100.0], [-89, -83, -100, -189, -194, -117, -194, -150, -94, -94], [0, 0, -17, -83, -72, -67, -50, -44, -200, -200], [28.0, 11.0, -50.0, -161.0, -83.0, 39.0, -50.0, -150.0, -111.0, -178.0], [75.12732474964234, 75.12732474964234, 75.12732474964234, 75.12732474964234, 75.12732474964234, 75.12732474964234, 75.12732474964234, 75.12732474964234, 75.12732474964234, 75.12732474964234], [75.93484224965707, -111.0, -139.0, -106.0, -72.0, 17.0, -22.0, -111.0, -83.0, -44.0]]\r\n",
        "41.0\t[[-10, -50, -10, -10, -30, -20, -20, -20, -10, -30], [-10.0, -10.0, -10.0, 60.0, 50.0, 60.0, 20.0, 50.0, -20.0, 40.0], [-10.0, 30.0, -10.0, 20.0, -40.0, -40.0, -30.0, -15.0, -20.0, -10.0], [-10.0, 50.0, 30.0, 20.0, 20.0, 40.0, 20.0, 20.0, -30.0, -20.0], [-20, -10, -50, -50, -50, -50, -30, -20, -40, -20], [-20, -20, -20, 10, 20, -10, -30, -40, -50, -30], [-20, -20, 10, 10, 10, -15, -10, -10, 10, 20], [-20.0, -20.0, 30.0, -30.0, 30.0, -30.0, -90.0, -50.0, -40.0, -40.0], [-20.0, 20.0, -60.0, -20.0, -20.0, 5.0, 20.0, -20.0, -20.0, 30.0], [-28.0, -53.0, -23.0, -48.0, -63.0, -53.0, -33.0, -33.0, 3.0, 3.0], [-30.0, -10.0, -10.0, -10.0, -10.0, -10.0, -10.0, -40.0, -20.0, -20.0], [-30.0, -20.0, -15.0, -20.0, -10.0, -30.0, -40.0, -50.0, -25.0, -30.0], [-30.0, -30.0, -20.0, 0.0, 20.0, 40.0, 40.0, 15.0, -10.0, -10.0], [-30.0, -30.0, -30.0, 20.0, -5.0, -70.0, -70.0, -50.0, -10.0, 10.0], [-30.0, -50.0, -50.0, -20.0, -40.0, -10.0, -20.0, -20.0, -20.0, 30.0], [-40, -50, -40, -30, -20, -20, -30, -20, -30, -20], [-40, 20, 20, 40, 40, -30, 50, 30, -60, -40], [-40.0, -20.0, -30.0, -30.0, -40.0, -40.0, -40.0, -25.0, -10.0, -50.0], [-40.0, -40.0, -40.0, -20.0, -20.0, -20.0, -50.0, -60.0, -50.0, -40.0], [-50.0, -40.0, -40.0, -60.0, -40.0, -60.0, -40.0, 60.0, 40.0, 60.0], [-50.0, -60.0, -20.0, -20.0, -30.0, -20.0, -30.0, -50.0, -40.0, -50.0], [-60.0, -30.0, -50.0, -40.0, -50.0, -40.0, -40.0, -50.0, -50.0, -40.0], [-60.0, -60.0, -50.0, -60.0, -60.0, -50.0, -40.0, -30.0, 30.0, -30.0], [-65, -65, -73, -65, -114, -106, -440, -13, -73, -53], [-80.0, -80.0, -80.0, -80.0, -10.0, 50.0, 42.0, 34.0, 26.0, 18.0], [-90.0, -90.0, -30.0, -20.0, -20.0, -40.0, -20.0, -20.0, -20.0, -10.0], [115.02732240437159, 115.02732240437159, 115.02732240437159, 115.02732240437159, 115.02732240437159, 115.02732240437159, 115.02732240437159, 115.02732240437159, 115.02732240437159, 115.02732240437159], [120.0, 130.0, 170.0, 100.0, 160.0, 100.0, 50.0, 100.0, 100.0, 110.0], [122.89437585733882, -10.0, -40.0, -10.0, -40.0, -30.0, -10.0, -10.0, -10.0, -30.0], [130.07868383404863, 130.07868383404863, 130.07868383404863, 130.07868383404863, 130.07868383404863, 130.07868383404863, 130.07868383404863, 130.07868383404863, 130.07868383404863, 130.07868383404863], [130.23643410852713, 130.23643410852713, 130.23643410852713, 130.23643410852713, 130.23643410852713, 130.23643410852713, 130.23643410852713, 130.23643410852713, 130.23643410852713, 130.23643410852713], [131.98216735253772, -30.0, -40.0, -30.0, -30.0, -40.0, 50.0, -50.0, -20.0, 50.0], [132.32142857142858, 132.32142857142858, -10.0, -30.0, 30.0, 20.0, 10.0, 10.0, -50.0, -50.0], [137.77777777777777, -20.0, -10.0, -20.0, -40.0, -40.0, -30.0, -40.0, -20.0, -40.0], [144.62277091906722, -20.0, -20.0, -20.0, -20.0, -30.0, -50.0, -50.0, -60.0, -60.0], [20, 25, 45, 40, 25, 40, -10, -25, 20, -30], [20.0, -20.0, -20.0, -40.0, -30.0, -40.0, -30.0, -20.0, -20.0, -20.0], [20.0, -30.0, -30.0, 20.0, -40.0, -60.0, -60.0, -60.0, -40.0, -40.0], [200.0, 200.0, 170.0, 160.0, 160.0, 170.0, 160.0, 130.0, 160.0, 140.0], [30.0, 30.0, 70.0, 60.0, 80.0, 80.0, 60.0, 30.0, 50.0, 50.0], [40, -40, -40, -30, -40, -30, -30, -60, -40, -30], [40.0, -30.0, -30.0, -40.0, -20.0, -30.0, 40.0, 70.0, -30.0, -50.0], [50.0, 30.0, 30.0, 30.0, 20.0, 20.0, 50.0, 50.0, 40.0, 40.0], [60.0, 30.0, 40.0, 40.0, -10.0, -20.0, -10.0, 10.0, 30.0, 40.0], [60.0, 57.61904761904762, 55.23809523809524, 52.85714285714286, 50.476190476190474, 48.095238095238095, 45.714285714285715, 43.33333333333333, 40.95238095238095, 38.57142857142857]]\r\n"
       ]
      }
     ],
     "prompt_number": 42
    }
   ],
   "metadata": {}
  }
 ]
}