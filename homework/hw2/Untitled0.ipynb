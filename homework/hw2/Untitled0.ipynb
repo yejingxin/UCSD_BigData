{
 "metadata": {
  "name": "",
  "signature": "sha256:40e70eba998e939a139e2429c2d8ebcf944e70792b4fdcec1147c0f1e2fe240c"
 },
 "nbformat": 3,
 "nbformat_minor": 0,
 "worksheets": [
  {
   "cells": [
    {
     "cell_type": "code",
     "collapsed": false,
     "input": [
      "from sklearn.datasets import load_iris\n",
      "iris = load_iris()\n",
      "X = iris.data\n",
      "y = iris.target\n",
      "print shape(X),shape(y)"
     ],
     "language": "python",
     "metadata": {},
     "outputs": [
      {
       "output_type": "stream",
       "stream": "stdout",
       "text": [
        "(150, 4) (150,)\n"
       ]
      }
     ],
     "prompt_number": 1
    },
    {
     "cell_type": "code",
     "collapsed": false,
     "input": [
      "from sklearn.decomposition import PCA\n",
      "pca = PCA(n_components=4, whiten=True)\n",
      "pca.fit(X)\n",
      "print pca.explained_variance_ratio_\n",
      "print pca.components_\n",
      "print sum(pca.explained_variance_ratio_)"
     ],
     "language": "python",
     "metadata": {},
     "outputs": [
      {
       "output_type": "stream",
       "stream": "stdout",
       "text": [
        "[ 0.92461621  0.05301557  0.01718514  0.00518309]\n",
        "[[ 0.17650757 -0.04015901  0.41812992  0.17516725]\n",
        " [-1.33840478 -1.48757227  0.35831476  0.15229463]\n",
        " [ 2.08029843 -2.13551363 -0.25967715 -1.96594819]\n",
        " [ 2.06843437 -2.11302849 -3.12766908  4.89715149]]\n",
        "1.0\n"
       ]
      }
     ],
     "prompt_number": 10
    },
    {
     "cell_type": "code",
     "collapsed": false,
     "input": [
      "from sklearn.decomposition import PCA\n",
      "def mypca(X,n):\n",
      "    pca = PCA(n_components=n, whiten=True)\n",
      "    pca.fit(X)\n",
      "    sum1 = 0\n",
      "    for i in range(n):\n",
      "        sum1 = sum1 + pca.explained_variance_ratio_[i]\n",
      "        if sum1 > 0.99:\n",
      "            break\n",
      "    return i"
     ],
     "language": "python",
     "metadata": {},
     "outputs": [],
     "prompt_number": 7
    },
    {
     "cell_type": "code",
     "collapsed": false,
     "input": [
      "mypca(iris.data,4)"
     ],
     "language": "python",
     "metadata": {},
     "outputs": [
      {
       "metadata": {},
       "output_type": "pyout",
       "prompt_number": 8,
       "text": [
        "2"
       ]
      }
     ],
     "prompt_number": 8
    },
    {
     "cell_type": "code",
     "collapsed": false,
     "input": [
      "import numpy as np\n",
      "print np.array([[1,2,3],[2,3,4],[3,4,5]])"
     ],
     "language": "python",
     "metadata": {},
     "outputs": [
      {
       "output_type": "stream",
       "stream": "stdout",
       "text": [
        "[[1 2 3]\n",
        " [2 3 4]\n",
        " [3 4 5]]\n"
       ]
      }
     ],
     "prompt_number": 4
    },
    {
     "cell_type": "code",
     "collapsed": false,
     "input": [
      "test = iris.data\n",
      "print list(test)"
     ],
     "language": "python",
     "metadata": {},
     "outputs": [
      {
       "output_type": "stream",
       "stream": "stdout",
       "text": [
        "[array([ 5.1,  3.5,  1.4,  0.2]), array([ 4.9,  3. ,  1.4,  0.2]), array([ 4.7,  3.2,  1.3,  0.2]), array([ 4.6,  3.1,  1.5,  0.2]), array([ 5. ,  3.6,  1.4,  0.2]), array([ 5.4,  3.9,  1.7,  0.4]), array([ 4.6,  3.4,  1.4,  0.3]), array([ 5. ,  3.4,  1.5,  0.2]), array([ 4.4,  2.9,  1.4,  0.2]), array([ 4.9,  3.1,  1.5,  0.1]), array([ 5.4,  3.7,  1.5,  0.2]), array([ 4.8,  3.4,  1.6,  0.2]), array([ 4.8,  3. ,  1.4,  0.1]), array([ 4.3,  3. ,  1.1,  0.1]), array([ 5.8,  4. ,  1.2,  0.2]), array([ 5.7,  4.4,  1.5,  0.4]), array([ 5.4,  3.9,  1.3,  0.4]), array([ 5.1,  3.5,  1.4,  0.3]), array([ 5.7,  3.8,  1.7,  0.3]), array([ 5.1,  3.8,  1.5,  0.3]), array([ 5.4,  3.4,  1.7,  0.2]), array([ 5.1,  3.7,  1.5,  0.4]), array([ 4.6,  3.6,  1. ,  0.2]), array([ 5.1,  3.3,  1.7,  0.5]), array([ 4.8,  3.4,  1.9,  0.2]), array([ 5. ,  3. ,  1.6,  0.2]), array([ 5. ,  3.4,  1.6,  0.4]), array([ 5.2,  3.5,  1.5,  0.2]), array([ 5.2,  3.4,  1.4,  0.2]), array([ 4.7,  3.2,  1.6,  0.2]), array([ 4.8,  3.1,  1.6,  0.2]), array([ 5.4,  3.4,  1.5,  0.4]), array([ 5.2,  4.1,  1.5,  0.1]), array([ 5.5,  4.2,  1.4,  0.2]), array([ 4.9,  3.1,  1.5,  0.1]), array([ 5. ,  3.2,  1.2,  0.2]), array([ 5.5,  3.5,  1.3,  0.2]), array([ 4.9,  3.1,  1.5,  0.1]), array([ 4.4,  3. ,  1.3,  0.2]), array([ 5.1,  3.4,  1.5,  0.2]), array([ 5. ,  3.5,  1.3,  0.3]), array([ 4.5,  2.3,  1.3,  0.3]), array([ 4.4,  3.2,  1.3,  0.2]), array([ 5. ,  3.5,  1.6,  0.6]), array([ 5.1,  3.8,  1.9,  0.4]), array([ 4.8,  3. ,  1.4,  0.3]), array([ 5.1,  3.8,  1.6,  0.2]), array([ 4.6,  3.2,  1.4,  0.2]), array([ 5.3,  3.7,  1.5,  0.2]), array([ 5. ,  3.3,  1.4,  0.2]), array([ 7. ,  3.2,  4.7,  1.4]), array([ 6.4,  3.2,  4.5,  1.5]), array([ 6.9,  3.1,  4.9,  1.5]), array([ 5.5,  2.3,  4. ,  1.3]), array([ 6.5,  2.8,  4.6,  1.5]), array([ 5.7,  2.8,  4.5,  1.3]), array([ 6.3,  3.3,  4.7,  1.6]), array([ 4.9,  2.4,  3.3,  1. ]), array([ 6.6,  2.9,  4.6,  1.3]), array([ 5.2,  2.7,  3.9,  1.4]), array([ 5. ,  2. ,  3.5,  1. ]), array([ 5.9,  3. ,  4.2,  1.5]), array([ 6. ,  2.2,  4. ,  1. ]), array([ 6.1,  2.9,  4.7,  1.4]), array([ 5.6,  2.9,  3.6,  1.3]), array([ 6.7,  3.1,  4.4,  1.4]), array([ 5.6,  3. ,  4.5,  1.5]), array([ 5.8,  2.7,  4.1,  1. ]), array([ 6.2,  2.2,  4.5,  1.5]), array([ 5.6,  2.5,  3.9,  1.1]), array([ 5.9,  3.2,  4.8,  1.8]), array([ 6.1,  2.8,  4. ,  1.3]), array([ 6.3,  2.5,  4.9,  1.5]), array([ 6.1,  2.8,  4.7,  1.2]), array([ 6.4,  2.9,  4.3,  1.3]), array([ 6.6,  3. ,  4.4,  1.4]), array([ 6.8,  2.8,  4.8,  1.4]), array([ 6.7,  3. ,  5. ,  1.7]), array([ 6. ,  2.9,  4.5,  1.5]), array([ 5.7,  2.6,  3.5,  1. ]), array([ 5.5,  2.4,  3.8,  1.1]), array([ 5.5,  2.4,  3.7,  1. ]), array([ 5.8,  2.7,  3.9,  1.2]), array([ 6. ,  2.7,  5.1,  1.6]), array([ 5.4,  3. ,  4.5,  1.5]), array([ 6. ,  3.4,  4.5,  1.6]), array([ 6.7,  3.1,  4.7,  1.5]), array([ 6.3,  2.3,  4.4,  1.3]), array([ 5.6,  3. ,  4.1,  1.3]), array([ 5.5,  2.5,  4. ,  1.3]), array([ 5.5,  2.6,  4.4,  1.2]), array([ 6.1,  3. ,  4.6,  1.4]), array([ 5.8,  2.6,  4. ,  1.2]), array([ 5. ,  2.3,  3.3,  1. ]), array([ 5.6,  2.7,  4.2,  1.3]), array([ 5.7,  3. ,  4.2,  1.2]), array([ 5.7,  2.9,  4.2,  1.3]), array([ 6.2,  2.9,  4.3,  1.3]), array([ 5.1,  2.5,  3. ,  1.1]), array([ 5.7,  2.8,  4.1,  1.3]), array([ 6.3,  3.3,  6. ,  2.5]), array([ 5.8,  2.7,  5.1,  1.9]), array([ 7.1,  3. ,  5.9,  2.1]), array([ 6.3,  2.9,  5.6,  1.8]), array([ 6.5,  3. ,  5.8,  2.2]), array([ 7.6,  3. ,  6.6,  2.1]), array([ 4.9,  2.5,  4.5,  1.7]), array([ 7.3,  2.9,  6.3,  1.8]), array([ 6.7,  2.5,  5.8,  1.8]), array([ 7.2,  3.6,  6.1,  2.5]), array([ 6.5,  3.2,  5.1,  2. ]), array([ 6.4,  2.7,  5.3,  1.9]), array([ 6.8,  3. ,  5.5,  2.1]), array([ 5.7,  2.5,  5. ,  2. ]), array([ 5.8,  2.8,  5.1,  2.4]), array([ 6.4,  3.2,  5.3,  2.3]), array([ 6.5,  3. ,  5.5,  1.8]), array([ 7.7,  3.8,  6.7,  2.2]), array([ 7.7,  2.6,  6.9,  2.3]), array([ 6. ,  2.2,  5. ,  1.5]), array([ 6.9,  3.2,  5.7,  2.3]), array([ 5.6,  2.8,  4.9,  2. ]), array([ 7.7,  2.8,  6.7,  2. ]), array([ 6.3,  2.7,  4.9,  1.8]), array([ 6.7,  3.3,  5.7,  2.1]), array([ 7.2,  3.2,  6. ,  1.8]), array([ 6.2,  2.8,  4.8,  1.8]), array([ 6.1,  3. ,  4.9,  1.8]), array([ 6.4,  2.8,  5.6,  2.1]), array([ 7.2,  3. ,  5.8,  1.6]), array([ 7.4,  2.8,  6.1,  1.9]), array([ 7.9,  3.8,  6.4,  2. ]), array([ 6.4,  2.8,  5.6,  2.2]), array([ 6.3,  2.8,  5.1,  1.5]), array([ 6.1,  2.6,  5.6,  1.4]), array([ 7.7,  3. ,  6.1,  2.3]), array([ 6.3,  3.4,  5.6,  2.4]), array([ 6.4,  3.1,  5.5,  1.8]), array([ 6. ,  3. ,  4.8,  1.8]), array([ 6.9,  3.1,  5.4,  2.1]), array([ 6.7,  3.1,  5.6,  2.4]), array([ 6.9,  3.1,  5.1,  2.3]), array([ 5.8,  2.7,  5.1,  1.9]), array([ 6.8,  3.2,  5.9,  2.3]), array([ 6.7,  3.3,  5.7,  2.5]), array([ 6.7,  3. ,  5.2,  2.3]), array([ 6.3,  2.5,  5. ,  1.9]), array([ 6.5,  3. ,  5.2,  2. ]), array([ 6.2,  3.4,  5.4,  2.3]), array([ 5.9,  3. ,  5.1,  1.8])]\n"
       ]
      }
     ],
     "prompt_number": 3
    },
    {
     "cell_type": "code",
     "collapsed": false,
     "input": [
      "%%writefile mr_weather_pca_test.py\n",
      "#!/usr/bin/python\n",
      "\"\"\"\n",
      "PCA\n",
      "\"\"\"\n",
      "import sys\n",
      "sys.path.append('/usr/lib/python2.6/dist-packages')\n",
      "from mrjob.job import MRJob\n",
      "import re\n",
      "from sys import stderr\n",
      "import pickle\n",
      "import pandas as pd\n",
      "import numpy as np\n",
      "\n",
      "Station_dict = pickle.load( open( \"Station_dict.pkl\", \"rb\" ) )\n",
      "\n",
      "class MRWeather_pca(MRJob):\n",
      "    def extract_meas_mapper(self, _, line):\n",
      "        self.increment_counter('MrJob Counters','extract_meas_mapper',1)\n",
      "        elements=line.split(',')\n",
      "        if elements[1]=='TMAX' or elements[1]=='TMIN':\n",
      "            Ndays = sum([e!='' for e in elements[3:]])\n",
      "            meas = 1\n",
      "            yield (elements[0],elements[2]), (meas,Ndays,elements[3:])\n",
      "            \n",
      "    def extract_meas_reducer(self, key, meas_set):\n",
      "        self.increment_counter('MrJob Counters','extract_meas_reducer',1)\n",
      "        sum1 = 0\n",
      "        sum2 = 0\n",
      "        total_meas = []\n",
      "        for Nmeas,Ndays,meas in meas_set:\n",
      "            sum1 = sum1 + Nmeas\n",
      "            sum2 = sum2 + Ndays\n",
      "            total_meas = total_meas + meas\n",
      "        if sum1 == 2 and sum2>200:\n",
      "            yield key, (Station_dict[key[0]],total_meas)\n",
      "            \n",
      "    def mean_mapper(self, key, key_meas):\n",
      "        value = [1,1]\n",
      "        #for each in key_meas[1]:\n",
      "         #   if each == '':\n",
      "         #       value.append(np.nan)\n",
      "          #  else:\n",
      "           #     value.append(float(each))\n",
      "        #s = pd.Series(value)\n",
      "        #s = s.interpolate()\n",
      "        #s = s.fillna(s.mean())\n",
      "        yield key_meas[0], 1 #tuple(s)\n",
      "    \n",
      "    def mean_reducer(self, key, meas):\n",
      "        #s_total = pd.concat(meas,axis=1)\n",
      "        yield key, meas#s_totals_total.mean().values\n",
      "            \n",
      "    \n",
      "    def steps(self):\n",
      "        \"\"\"TODO: Document what you expect each mapper and reducer to produce:\n",
      "        mapper1: <line, record> => <key, value>\n",
      "        reducer1: <key, [values]>\n",
      "        mapper2: ...\n",
      "        \"\"\"\n",
      "        return [self.mr(mapper=self.extract_meas_mapper, reducer=self.extract_meas_reducer),\n",
      "                self.mr(mapper=self.mean_mapper, reducer=self.mean_reducer)]\n",
      "if __name__ == '__main__':\n",
      "    MRWeather_pca.run()"
     ],
     "language": "python",
     "metadata": {},
     "outputs": [
      {
       "output_type": "stream",
       "stream": "stdout",
       "text": [
        "Overwriting mr_weather_pca_test.py\n"
       ]
      }
     ],
     "prompt_number": 24
    },
    {
     "cell_type": "code",
     "collapsed": false,
     "input": [
      "    def mean_mapper(self, key, key_meas):\n",
      "        value = []\n",
      "        for each in key_meas[1]:\n",
      "            if each == '':\n",
      "                value.append(np.nan)\n",
      "            else:\n",
      "                value.append(float(each))\n",
      "        s = pd.Series(value)\n",
      "        s = s.interpolate()\n",
      "        s = s.fillna(s.mean())\n",
      "        yield key_meas[0], s\n",
      "    \n",
      "    def mean_reducer(self, key, meas):\n",
      "        tmp = list(meas)\n",
      "        s_total = pd.concat(tmp,axis=1)\n",
      "        yield key, np.array(s_total.mean())#.values"
     ],
     "language": "python",
     "metadata": {},
     "outputs": []
    },
    {
     "cell_type": "code",
     "collapsed": false,
     "input": [
      "a=[1,['23','23','24']]\n",
      "print a[1]"
     ],
     "language": "python",
     "metadata": {},
     "outputs": [
      {
       "output_type": "stream",
       "stream": "stdout",
       "text": [
        "['23', '23', '24']\n"
       ]
      }
     ],
     "prompt_number": 23
    },
    {
     "cell_type": "code",
     "collapsed": false,
     "input": [
      "local_data='/home/ubuntu/UCSD_BigData/data/weather/ALL.head.csv'\n",
      "!python mr_weather_pca_test.py $local_data"
     ],
     "language": "python",
     "metadata": {},
     "outputs": [
      {
       "output_type": "stream",
       "stream": "stdout",
       "text": [
        "using configs in /home/ubuntu/.mrjob.conf\r\n",
        "creating tmp directory /tmp/mr_weather_pca_test.ubuntu.20140524.022853.946053\r\n"
       ]
      },
      {
       "output_type": "stream",
       "stream": "stdout",
       "text": [
        "writing to /tmp/mr_weather_pca_test.ubuntu.20140524.022853.946053/step-0-mapper_part-00000\r\n"
       ]
      },
      {
       "output_type": "stream",
       "stream": "stdout",
       "text": [
        "Counters from step 1:\r\n",
        "  MrJob Counters:\r\n",
        "    extract_meas_mapper: 999\r\n",
        "writing to /tmp/mr_weather_pca_test.ubuntu.20140524.022853.946053/step-0-mapper-sorted\r\n",
        "> sort /tmp/mr_weather_pca_test.ubuntu.20140524.022853.946053/step-0-mapper_part-00000\r\n"
       ]
      },
      {
       "output_type": "stream",
       "stream": "stdout",
       "text": [
        "writing to /tmp/mr_weather_pca_test.ubuntu.20140524.022853.946053/step-0-reducer_part-00000\r\n"
       ]
      },
      {
       "output_type": "stream",
       "stream": "stdout",
       "text": [
        "Counters from step 1:\r\n",
        "  MrJob Counters:\r\n",
        "    extract_meas_mapper: 999\r\n",
        "    extract_meas_reducer: 123\r\n",
        "writing to /tmp/mr_weather_pca_test.ubuntu.20140524.022853.946053/step-1-mapper_part-00000\r\n"
       ]
      },
      {
       "output_type": "stream",
       "stream": "stdout",
       "text": [
        "Counters from step 2:\r\n",
        "  (no counters found)\r\n",
        "writing to /tmp/mr_weather_pca_test.ubuntu.20140524.022853.946053/step-1-mapper-sorted\r\n",
        "> sort /tmp/mr_weather_pca_test.ubuntu.20140524.022853.946053/step-1-mapper_part-00000\r\n"
       ]
      },
      {
       "output_type": "stream",
       "stream": "stdout",
       "text": [
        "writing to /tmp/mr_weather_pca_test.ubuntu.20140524.022853.946053/step-1-reducer_part-00000\r\n",
        "Counters from step 2:\r\n",
        "  Unencodable output:\r\n",
        "    TypeError: 3\r\n",
        "Moving /tmp/mr_weather_pca_test.ubuntu.20140524.022853.946053/step-1-reducer_part-00000 -> /tmp/mr_weather_pca_test.ubuntu.20140524.022853.946053/output/part-00000\r\n",
        "Streaming final output from /tmp/mr_weather_pca_test.ubuntu.20140524.022853.946053/output\r\n",
        "removing tmp directory /tmp/mr_weather_pca_test.ubuntu.20140524.022853.946053\r\n"
       ]
      }
     ],
     "prompt_number": 25
    },
    {
     "cell_type": "code",
     "collapsed": false,
     "input": [
      "!cat test.dat"
     ],
     "language": "python",
     "metadata": {},
     "outputs": [],
     "prompt_number": 19
    }
   ],
   "metadata": {}
  }
 ]
}