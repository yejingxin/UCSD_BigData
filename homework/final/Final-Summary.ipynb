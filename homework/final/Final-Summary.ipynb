{
 "metadata": {
  "name": "",
  "signature": "sha256:7360d99446af37dd3ae36424ee63d2022b1f29f45eec0d7a2d02b4eff198b402"
 },
 "nbformat": 3,
 "nbformat_minor": 0,
 "worksheets": [
  {
   "cells": [
    {
     "cell_type": "markdown",
     "metadata": {},
     "source": [
      "#Paritioning Global Temperature Data based on Dist2Coast\n",
      "_**by Jingxin Ye**_\n",
      "\n",
      "###Problem Description\n",
      "\n",
      "Principal component analysis (PCA) of global climatic data set is used frequently for both interpretation of data and reduction of dimension. PCA usually fails when one tries to apply it to analyse the global data as a whole. The reason behind it is that different areas have different climate partterns. The variety of climate partterns averages out the dominating behavior we are interested in, and makes the principal components obtained from PCA not principal any more.\n",
      "\n",
      "To resolve this problem, we applied a Minimum Description Length(MDL) based clustering technique to the problem of partitioning a set of geospatial temperature data. To let the partition make sense to PCA, i.e. maximize the performance of PCA, some requirements needs to be applied:\n",
      "\n",
      "1. Data need to be evenly paritioned and sample size is large enough without causing any bias.\n",
      "1. Data points within each partition should share similar partterns, so that PCA can easily grasp its dominating behavior.\n",
      "1. Partition criteria had better be based on geospatial features, and can be easily generlized to other dataset.\n",
      "\n",
      "The first requirement is easily to satisfy. To meet the second and third ones, it is equivalent to train a model that maps from temperature changing patterns to some geospatial features. Having this model, one can apply the partition scheme to any dataset. However, this task rises the following difficulties:\n",
      "\n",
      "1. It is an unsupervise learning problem: temparature changing partterns are not trivial to identified exactly. \n",
      "1. It is a big data project: data size is too large to analyse with computation-intensive method.\n",
      "---"
     ]
    },
    {
     "cell_type": "markdown",
     "metadata": {},
     "source": [
      "###Approach\n",
      "Rather than trying to modeling annual temperature data accurately, we can try to find a simple and rough variable to describe the data. The simplest and most straightforward metric representing the change of temperature is annual variance, which quantifies how far the daily temperatures is spread out over one year. The following picture is from homework 1\n",
      "![](figure/Temp_std.png)\n",
      "We found that the temperature of the station near coast varies little throughout one year. The distance from station to coast could be an important feature that can be used for partitioning data. The following work were done in this order\n",
      "\n",
      "1. Data are partition evenly according to their distances to coast and the number of measurements\n",
      "1. PCA is carried out for each partition.\n",
      "1. Merge neighbour partition with similar meteorologically behaviour together using the concept of minimum description lenth (MDL)\n",
      "----"
     ]
    },
    {
     "cell_type": "markdown",
     "metadata": {},
     "source": [
      "###Result\n",
      "Data are partitioned into 128 parts, each one has approximately 13400 measurements. \n",
      "![](figure/partition_labels.png)\n",
      "Since the density of station is higher for the area near coast. It is hard to distinguish the boundaries of the partition from the figure above. Then every partition is merged with its right neighbour according to MDL criteria, the newly merged set will continue merging with its next right neighbour until it fails MDL criteria. Finally, 128 partitions are merged into 58 partitions.\n",
      "![](figure/merge_compare.png)\n",
      "----\n"
     ]
    },
    {
     "cell_type": "markdown",
     "metadata": {},
     "source": [
      "### Discussion\n",
      "We found the first two partition are not merged. I think it is beacause those station closeat to coast are those located in different places in the ocean and far from each. Some of them are in southern hemisphere and some other are in northern hemisphere. Some are near equator and some other are near poles.\n",
      "\n",
      "The area with partition label from 10 to 128. Large part of them share the similar meteorologically behaviour, which indicates that those temperature change patterns vary stablely as distance to coast increases in that area.\n",
      "\n",
      "Note there are also some distinct bin located between those merged partitions. That usually caused by the stations in that partition may located in different hemisphere, which throw light upon the shortcoming of this partition method. If we do that for all the stations in one hemishpere may improve the situation."
     ]
    },
    {
     "cell_type": "markdown",
     "metadata": {},
     "source": [
      "### Conclusion\n",
      "The partition based on dist2coast takes advantage of the variation of tempurature near coast is small, and successfully partitions the data into 58 small parts. Data in each part share similar meteorologically behaviour."
     ]
    }
   ],
   "metadata": {}
  }
 ]
}